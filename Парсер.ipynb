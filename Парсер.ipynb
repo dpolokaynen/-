{
  "nbformat": 4,
  "nbformat_minor": 0,
  "metadata": {
    "kernelspec": {
      "display_name": "Python 3",
      "language": "python",
      "name": "python3"
    },
    "language_info": {
      "codemirror_mode": {
        "name": "ipython",
        "version": 3
      },
      "file_extension": ".py",
      "mimetype": "text/x-python",
      "name": "python",
      "nbconvert_exporter": "python",
      "pygments_lexer": "ipython3",
      "version": "3.8.3"
    },
    "colab": {
      "name": "Gunter.ipynb",
      "provenance": []
    }
  },
  "cells": [
    {
      "cell_type": "markdown",
      "metadata": {
        "id": "JPBamXQ893zA"
      },
      "source": [
        "### Перед вами файл с получением данных о запуске космических аппаратов с сайта Gunter (https://space.skyrocket.de./index.html)"
      ]
    },
    {
      "cell_type": "markdown",
      "metadata": {
        "id": "99wtl_x-93zD"
      },
      "source": [
        "* Для получения данных введите необходимые года через запятую"
      ]
    },
    {
      "cell_type": "code",
      "metadata": {
        "id": "urCNpldo93zF"
      },
      "source": [
        "years = [2021]"
      ],
      "execution_count": null,
      "outputs": []
    },
    {
      "cell_type": "markdown",
      "metadata": {
        "id": "W0j9Dewb93zG"
      },
      "source": [
        "* Для выгрузки определенного месяца, введите номара месяцев через запятую"
      ]
    },
    {
      "cell_type": "code",
      "metadata": {
        "id": "03VFu6KP93zG"
      },
      "source": [
        "months = [3]"
      ],
      "execution_count": null,
      "outputs": []
    },
    {
      "cell_type": "markdown",
      "metadata": {
        "id": "38EElYon93zH"
      },
      "source": [
        "* После введения года и месяца, нажмите ctrl+F9 для запуска программы"
      ]
    },
    {
      "cell_type": "markdown",
      "metadata": {
        "id": "7_gV-CHT93zI"
      },
      "source": [
        "### ................................................................................................."
      ]
    },
    {
      "cell_type": "markdown",
      "metadata": {
        "id": "xyyB-9cJ93zI"
      },
      "source": [
        "### Оглавление <a class=\"anchor\" id=\"home\"></a>"
      ]
    },
    {
      "cell_type": "markdown",
      "metadata": {
        "id": "wbQZf9sn93zJ"
      },
      "source": [
        "* [Установка библиотек и проверка соеднения](#1-bullet)\n",
        "* [Парсинг уникальных ссылок](#2-bullet)\n",
        "* [Парсинг ТТХ КА и информации о запуске](#3-bullet)\n",
        "* [Подготовка таблицы к выгрузке в базу данных](#4-bullet)\n",
        "* [Сохранение](#5-bullet)\n",
        "* [Архивные строки кода](#5-bullet)"
      ]
    },
    {
      "cell_type": "markdown",
      "metadata": {
        "id": "bLaZTfFF93zJ"
      },
      "source": [
        "### Установка библиотек и проверка соеднения <a class=\"anchor\" id=\"1-bullet\"></a>"
      ]
    },
    {
      "cell_type": "markdown",
      "metadata": {
        "id": "gtna2mlS93zK"
      },
      "source": [
        "[Обратно в оглавление](#home)"
      ]
    },
    {
      "cell_type": "code",
      "metadata": {
        "colab": {
          "base_uri": "https://localhost:8080/"
        },
        "id": "mZe_aWgB93zK",
        "outputId": "594a1b0f-37b2-4af6-8f79-445b25894b88"
      },
      "source": [
        "!pip install beautifulsoup4"
      ],
      "execution_count": null,
      "outputs": [
        {
          "output_type": "stream",
          "text": [
            "Requirement already satisfied: beautifulsoup4 in /usr/local/lib/python3.7/dist-packages (4.6.3)\n"
          ],
          "name": "stdout"
        }
      ]
    },
    {
      "cell_type": "code",
      "metadata": {
        "id": "IhByxTh693zM"
      },
      "source": [
        "import requests\n",
        "from bs4 import BeautifulSoup\n",
        "import pandas as pd\n",
        "import time\n",
        "import numpy as np\n",
        "import string\n",
        "import datetime as dt"
      ],
      "execution_count": null,
      "outputs": []
    },
    {
      "cell_type": "markdown",
      "metadata": {
        "id": "W3B0rBYj93zN"
      },
      "source": [
        "Проверка соединения с сайтом"
      ]
    },
    {
      "cell_type": "code",
      "metadata": {
        "colab": {
          "base_uri": "https://localhost:8080/"
        },
        "id": "1F37E_ju93zN",
        "outputId": "eb428f35-6618-49b8-80cd-54b40c6c5abc"
      },
      "source": [
        "url = 'https://space.skyrocket.de/directories/chronology.htm'\n",
        "response = requests.get(url)\n",
        "if response.status_code == 200:\n",
        "    print('Запрос прошел успешно')\n",
        "else:\n",
        "    print(f'Ошибка. Response code: {response.status_code}')\n",
        "    print(f'URL: {url}')"
      ],
      "execution_count": null,
      "outputs": [
        {
          "output_type": "stream",
          "text": [
            "Запрос прошел успешно\n"
          ],
          "name": "stdout"
        }
      ]
    },
    {
      "cell_type": "markdown",
      "metadata": {
        "id": "yo75S1hM93zO"
      },
      "source": [
        "Смоделируем агента для парсинга"
      ]
    },
    {
      "cell_type": "code",
      "metadata": {
        "colab": {
          "base_uri": "https://localhost:8080/"
        },
        "id": "pYOm5p3R93zP",
        "outputId": "8be64b70-0600-49c5-a206-8ca891b97201"
      },
      "source": [
        "user_agent = 'Mozilla/5.0 (Macintosh; Intel Mac OS X 10_9_3) AppleWebKit/537.36 (KHTML, like Gecko) Chrome/35.0.1916.47 Safari/537.36'\n",
        "headers = {'User-Agent': user_agent}\n",
        "\n",
        "response = requests.get(url, headers=headers, allow_redirects=True)\n",
        "page_text = ''\n",
        "if response.status_code == 200:\n",
        "    print('Запрос прошел успешно!')\n",
        "    page_text = response.text\n",
        "else:\n",
        "    print(f'Ошибка! Response code: {response.status_code}')\n",
        "    print(f'URL: {url}')\n",
        "    print('--------------')"
      ],
      "execution_count": null,
      "outputs": [
        {
          "output_type": "stream",
          "text": [
            "Запрос прошел успешно!\n"
          ],
          "name": "stdout"
        }
      ]
    },
    {
      "cell_type": "markdown",
      "metadata": {
        "id": "IRIqyBw-93zP"
      },
      "source": [
        "### Парсинг уникальных ссылок <a class=\"anchor\" id=\"2-bullet\"></a>"
      ]
    },
    {
      "cell_type": "markdown",
      "metadata": {
        "id": "tCkG4_WV93zQ"
      },
      "source": [
        "[Обратно в оглавление](#home)"
      ]
    },
    {
      "cell_type": "markdown",
      "metadata": {
        "id": "weqmw55q93zQ"
      },
      "source": [
        "Извлечем таблицу с годами пусков и ссылками на страницы"
      ]
    },
    {
      "cell_type": "code",
      "metadata": {
        "id": "COJwfg-B93zQ"
      },
      "source": [
        "page_bs = BeautifulSoup(page_text)\n",
        "coverpage = page_bs.find('table', {'class': 'index'})\n"
      ],
      "execution_count": null,
      "outputs": []
    },
    {
      "cell_type": "markdown",
      "metadata": {
        "id": "nYFokBID93zR"
      },
      "source": [
        "Ссылки для перехода по годам сохраним в переменной в словаре full_link. Ключ словаря - год пусков, значение - ссылка"
      ]
    },
    {
      "cell_type": "code",
      "metadata": {
        "colab": {
          "base_uri": "https://localhost:8080/"
        },
        "id": "jrEPlWKs93zR",
        "outputId": "3163d3fb-0587-42ba-a656-961af1a2e0a4"
      },
      "source": [
        "main_link = 'https://space.skyrocket.de'\n",
        "full_link = {}\n",
        "launch_year = []\n",
        "all_launch_years = []\n",
        "for link in coverpage.find_all('a'):\n",
        "    launch_year = link.renderContents()\n",
        "    full_link[int(launch_year)] = main_link + link.get('href')[2:]\n",
        "    all_launch_years.append(int(launch_year))\n",
        "print('Тестовая ссылка',full_link[1957])\n",
        "print('Тестовый год',all_launch_years[0])"
      ],
      "execution_count": null,
      "outputs": [
        {
          "output_type": "stream",
          "text": [
            "Тестовая ссылка https://space.skyrocket.de/doc_chr/lau1957.htm\n",
            "Тестовый год 1957\n"
          ],
          "name": "stdout"
        }
      ]
    },
    {
      "cell_type": "markdown",
      "metadata": {
        "id": "jip4JUuy93zS"
      },
      "source": [
        "Парсинг страницы с годом запуска"
      ]
    },
    {
      "cell_type": "markdown",
      "metadata": {
        "id": "QRbOmAo493zS"
      },
      "source": [
        "Сделаем функцию для парсинга уникальных ссылок на КА со страницы с годом запуска"
      ]
    },
    {
      "cell_type": "code",
      "metadata": {
        "id": "DTkNWf_r93zS"
      },
      "source": [
        "def launch_data (link_year):\n",
        "    url_launch_year = link_year\n",
        "    user_agent = 'Mozilla/5.0 (Macintosh; Intel Mac OS X 10_9_3) AppleWebKit/537.36 (KHTML, like Gecko) Chrome/35.0.1916.47 Safari/537.36'\n",
        "    headers = {'User-Agent': user_agent}\n",
        "    response_launch = requests.get(url_launch_year, headers=headers, allow_redirects=True)\n",
        "    page_launch_year = response_launch.text\n",
        "    page_bs_launch_year = BeautifulSoup(page_launch_year)\n",
        "    coverpage_launch_year = page_bs_launch_year.find('table', {'id': 'chronlist'})\n",
        "    main_link = 'https://space.skyrocket.de'\n",
        "    payload_links = []\n",
        "    error = 0\n",
        "    for link in coverpage_launch_year.find_all('a'):\n",
        "        try:\n",
        "            if 'sdat' in link.get('href') and (main_link + link.get('href')[2:]) not in payload_links:\n",
        "                payload_links.append(main_link + link.get('href')[2:])\n",
        "        except TypeError:\n",
        "            error +=1\n",
        "    return payload_links"
      ],
      "execution_count": null,
      "outputs": []
    },
    {
      "cell_type": "markdown",
      "metadata": {
        "id": "hal008v593zS"
      },
      "source": [
        "Соберем список всех уникальных ссылок на КА"
      ]
    },
    {
      "cell_type": "code",
      "metadata": {
        "id": "WsRgPQpS93zT"
      },
      "source": [
        "all_satellites_link_list = []\n",
        "all_satellites_link = []\n",
        "#test_years = [1996]\n",
        "#for year in all_launch_years:\n",
        "#for year in test_years:\n",
        "for year in years:\n",
        "    all_satellites_link_list.append(launch_data(full_link[year]))\n",
        "for lst in all_satellites_link_list:\n",
        "    all_satellites_link.extend(lst)\n",
        "unique_satellites_link = []\n",
        "for satellite_link in all_satellites_link:\n",
        "    if satellite_link not in unique_satellites_link:\n",
        "        unique_satellites_link.append(satellite_link)\n",
        "\n",
        "#np.unique(all_satellites_link_list)\n",
        "#print(len(all_satellites_link))\n",
        "#print(len(unique_satellites_link))\n",
        "#print(all_satellites_link)\n",
        "#print(unique_satellites_link)\n"
      ],
      "execution_count": null,
      "outputs": []
    },
    {
      "cell_type": "code",
      "metadata": {
        "colab": {
          "base_uri": "https://localhost:8080/"
        },
        "id": "InrgOApf93zT",
        "outputId": "b46b1b31-426b-4fcd-b573-bf0c5591ed3a"
      },
      "source": [
        "print('Количество уникальных КА',len(unique_satellites_link))"
      ],
      "execution_count": null,
      "outputs": [
        {
          "output_type": "stream",
          "text": [
            "Количество уникальных КА 32\n"
          ],
          "name": "stdout"
        }
      ]
    },
    {
      "cell_type": "markdown",
      "metadata": {
        "id": "e9GAmVvO93zT"
      },
      "source": [
        "### Парсинг ТТХ КА и информации о запуске <a class=\"anchor\" id=\"3-bullet\"></a>"
      ]
    },
    {
      "cell_type": "markdown",
      "metadata": {
        "id": "xomlJzHH93zU"
      },
      "source": [
        "[Обратно в оглавление](#home)"
      ]
    },
    {
      "cell_type": "markdown",
      "metadata": {
        "id": "Uqwa0wQ493zU"
      },
      "source": [
        "#### Пасринг ТТХ КА\n",
        "* Открываем каждую уникальную ссылку КА\n",
        "* На каждой странице берем название КА - заголовок h1.\n",
        "* ТТХ КА ('table', {'id': 'satdata'})\n",
        "* Делаем словарь. Первый ключ - columns, значения - названия столбцов таблицы ('th', {'class': 'lhead'}). Далее ключи - навание КА, значения список характеристик из таблицы ('td', {'class': 'rcont'})\n",
        "* Делаем dataframe с первой строкой - наименования столбцов, дальше добавляем КА циклом из словаря"
      ]
    },
    {
      "cell_type": "markdown",
      "metadata": {
        "id": "e2uPNOEc93zU"
      },
      "source": [
        "#### Парсинг информации о запуске КА\n",
        "\n",
        "* Открываем каждую уникальную ссылку КА\n",
        "* На каждой странице берем название КА - заголовок h1.\n",
        "* Данные о запуске КА ('table', {'id': 'satlist'})"
      ]
    },
    {
      "cell_type": "markdown",
      "metadata": {
        "id": "wFzdIkOj93zU"
      },
      "source": [
        "#### Получение названия колонок"
      ]
    },
    {
      "cell_type": "markdown",
      "metadata": {
        "id": "hO7qQT0B93zV"
      },
      "source": [
        "Получим название колонок с ТТХ КА"
      ]
    },
    {
      "cell_type": "code",
      "metadata": {
        "id": "CP5mv2e193zV"
      },
      "source": [
        "user_agent = 'Mozilla/5.0 (Macintosh; Intel Mac OS X 10_9_3) AppleWebKit/537.36 (KHTML, like Gecko) Chrome/35.0.1916.47 Safari/537.36'\n",
        "headers = {'User-Agent': user_agent}\n",
        "response_satellite = requests.get(unique_satellites_link[0], headers=headers, allow_redirects=True)\n",
        "page_bs_launch_year = BeautifulSoup(response_satellite.text)\n",
        "    \n",
        "satellite_data_title = ['satellite_name']\n",
        "coverpage_characteristics = page_bs_launch_year.find('table', {'id': 'satdata'})\n",
        "satellite_data_coltitle = coverpage_characteristics.find_all('th', {'class': 'lhead'})\n",
        "\n",
        "for column in range(len(satellite_data_coltitle)):\n",
        "    satellite_data_title.append(str(satellite_data_coltitle[column].renderContents())[2:-1])\n",
        "\n",
        "#satellite_data_title"
      ],
      "execution_count": null,
      "outputs": []
    },
    {
      "cell_type": "markdown",
      "metadata": {
        "id": "RV0sNY_N93zV"
      },
      "source": [
        "Получим название колонок в таблице о запуске КА"
      ]
    },
    {
      "cell_type": "code",
      "metadata": {
        "id": "BobhDx0P93zV"
      },
      "source": [
        "user_agent = 'Mozilla/5.0 (Macintosh; Intel Mac OS X 10_9_3) AppleWebKit/537.36 (KHTML, like Gecko) Chrome/35.0.1916.47 Safari/537.36'\n",
        "headers = {'User-Agent': user_agent}\n",
        "response_satellite = requests.get(unique_satellites_link[0], headers=headers, allow_redirects=True)\n",
        "page_bs_launch_year = BeautifulSoup(response_satellite.text)\n",
        "\n",
        "coverpage_characteristics = page_bs_launch_year.find('table', {'id': 'satlist'})\n",
        "satellite_data_coltitle = coverpage_characteristics.find_all('th')\n",
        "#satellite_launch_columns = ['satellite_name']\n",
        "satellite_launch_columns = []\n",
        "for columns in satellite_data_coltitle:\n",
        "    satellite_launch_columns.append(str(columns.renderContents())[2:-1])\n",
        "satellite_launch_columns.append('satellite_name')\n",
        "\n",
        "#satellite_launch_columns"
      ],
      "execution_count": null,
      "outputs": []
    },
    {
      "cell_type": "markdown",
      "metadata": {
        "id": "Zgg4-Y0693zW"
      },
      "source": [
        "#### Создание функций для парсинга"
      ]
    },
    {
      "cell_type": "markdown",
      "metadata": {
        "id": "SPMb3ixG93zX"
      },
      "source": [
        "Сделаем функцию по парсингу данных из таблицы с характеристиками КА"
      ]
    },
    {
      "cell_type": "code",
      "metadata": {
        "id": "fii2ik8u93zX"
      },
      "source": [
        "def satellite_characteristic (link, final_dict):\n",
        "    user_agent = 'Mozilla/5.0 (Macintosh; Intel Mac OS X 10_9_3) AppleWebKit/537.36 (KHTML, like Gecko) Chrome/35.0.1916.47 Safari/537.36'\n",
        "    headers = {'User-Agent': user_agent}\n",
        "    response_satellite = requests.get(link, headers=headers, allow_redirects=True)\n",
        "    page_bs_launch_year = BeautifulSoup(response_satellite.text)\n",
        "    satellite_name = str(page_bs_launch_year.find('h1').renderContents().decode('utf-8','ignore'))\n",
        "    satellite_data_value = [satellite_name]\n",
        "    coverpage_characteristics = page_bs_launch_year.find('table', {'id': 'satdata'})\n",
        "    satellite_data_colvalue = coverpage_characteristics.find_all('td', {'class': 'rcont'})\n",
        "    #\n",
        "    #satellite_data_colvalue=satellite_data_colvalue.decode('utf-8','ignore').encode(\"utf-8\")\n",
        "    #\n",
        "    for column in range(len(satellite_data_colvalue)):\n",
        "        satellite_data_value.append(str(satellite_data_colvalue[column].renderContents().decode('utf-8','ignore')))\n",
        "    final_dict[satellite_name] = satellite_data_value\n",
        "    return final_dict"
      ],
      "execution_count": null,
      "outputs": []
    },
    {
      "cell_type": "markdown",
      "metadata": {
        "id": "T40Hupuw93zY"
      },
      "source": [
        "Подготовим таблицу со столбцами запуска КА для будущего парсинга "
      ]
    },
    {
      "cell_type": "code",
      "metadata": {
        "colab": {
          "base_uri": "https://localhost:8080/"
        },
        "id": "be62WL_E93zY",
        "outputId": "65ffd191-7a63-4f3e-ecf0-da20d0a495e9"
      },
      "source": [
        "launch_data = pd.DataFrame(columns = satellite_launch_columns)\n",
        "display(launch_data)"
      ],
      "execution_count": null,
      "outputs": [
        {
          "output_type": "display_data",
          "data": {
            "text/html": [
              "<div>\n",
              "<style scoped>\n",
              "    .dataframe tbody tr th:only-of-type {\n",
              "        vertical-align: middle;\n",
              "    }\n",
              "\n",
              "    .dataframe tbody tr th {\n",
              "        vertical-align: top;\n",
              "    }\n",
              "\n",
              "    .dataframe thead th {\n",
              "        text-align: right;\n",
              "    }\n",
              "</style>\n",
              "<table border=\"1\" class=\"dataframe\">\n",
              "  <thead>\n",
              "    <tr style=\"text-align: right;\">\n",
              "      <th></th>\n",
              "      <th>Satellite</th>\n",
              "      <th>COSPAR</th>\n",
              "      <th>Date</th>\n",
              "      <th>LS</th>\n",
              "      <th></th>\n",
              "      <th>Launch Vehicle</th>\n",
              "      <th>Remarks</th>\n",
              "      <th>satellite_name</th>\n",
              "    </tr>\n",
              "  </thead>\n",
              "  <tbody>\n",
              "  </tbody>\n",
              "</table>\n",
              "</div>"
            ],
            "text/plain": [
              "Empty DataFrame\n",
              "Columns: [Satellite, COSPAR, Date, LS, , Launch Vehicle, Remarks, satellite_name]\n",
              "Index: []"
            ]
          },
          "metadata": {
            "tags": []
          }
        }
      ]
    },
    {
      "cell_type": "markdown",
      "metadata": {
        "id": "CCsl6MDf93zZ"
      },
      "source": [
        "Сделаем функцию по получению данных о запуске КА"
      ]
    },
    {
      "cell_type": "code",
      "metadata": {
        "id": "5JzggTO993zZ"
      },
      "source": [
        "def launch_characteristic (link, dataframe):\n",
        "    user_agent = 'Mozilla/5.0 (Macintosh; Intel Mac OS X 10_9_3) AppleWebKit/537.36 (KHTML, like Gecko) Chrome/35.0.1916.47 Safari/537.36'\n",
        "    headers = {'User-Agent': user_agent}\n",
        "    response_satellite = requests.get(link, headers=headers, allow_redirects=True)\n",
        "    page_bs_launch_year = BeautifulSoup(response_satellite.text)\n",
        "    satellite_name = str(page_bs_launch_year.find('h1').renderContents().decode('utf-8','ignore'))\n",
        "    coverpage_characteristics = page_bs_launch_year.find('table', {'id': 'satlist'})\n",
        "    satellite_data_values = coverpage_characteristics.find_all('td')\n",
        "    string_length = len(satellite_launch_columns)-1\n",
        "    strings = int(len(satellite_data_values)/string_length)\n",
        "    satellite_data_context = []\n",
        "    #делаем датафрейм\n",
        "    satellite_data = [satellite_name]    \n",
        "    for element in satellite_data_values: \n",
        "        value = str(element.renderContents().decode('utf-8','ignore'))\n",
        "        satellite_data_context.append(value) \n",
        "        #satellite_data_context.append(str(element.renderContents())[2:-1])  \n",
        "        #display(str(element.renderContents())[2:-1])\n",
        "    for string in range(strings):\n",
        "        satellite_data = satellite_data_context[string*string_length:(string+1)*string_length]\n",
        "        satellite_data.append(satellite_name)\n",
        "        dataframe.loc[len(dataframe)+1] = satellite_data\n",
        "    return dataframe"
      ],
      "execution_count": null,
      "outputs": []
    },
    {
      "cell_type": "markdown",
      "metadata": {
        "id": "DPw2p20U93za"
      },
      "source": [
        "#### Парсим данные по харакетирстикам и запуску КА\n",
        "\n",
        "* Открываем уникальную страницу\n",
        "* На каждой странице парсим таблицу с харакетиристиками с помощью функции satellite_characteristic и таблицу с запусками с помощью функции launch_characteristic"
      ]
    },
    {
      "cell_type": "code",
      "metadata": {
        "id": "hd7jmdoh93za"
      },
      "source": [
        "satellites_characteristics = {}\n",
        "for satellite_link in unique_satellites_link:\n",
        "    satellite_characteristic (satellite_link, satellites_characteristics)\n",
        "    launch_characteristic(satellite_link,launch_data)\n",
        "\n",
        "#display(launch_data)\n",
        "#display(satellites_characteristics)"
      ],
      "execution_count": null,
      "outputs": []
    },
    {
      "cell_type": "markdown",
      "metadata": {
        "id": "11__oJPh93za"
      },
      "source": [
        "Делаем таблицу с харакетиристиками КА"
      ]
    },
    {
      "cell_type": "code",
      "metadata": {
        "colab": {
          "base_uri": "https://localhost:8080/"
        },
        "id": "FsWvMx9h93zb",
        "outputId": "75b66925-5c18-41cf-cf95-39c96cd88b1e"
      },
      "source": [
        "characteristics_data = pd.DataFrame(columns = satellite_data_title)\n",
        "n = 0\n",
        "for satellite in satellites_characteristics.keys():\n",
        "    characteristics_data.loc[n] = satellites_characteristics[satellite]\n",
        "    n+=1\n",
        "data = characteristics_data.drop([0])\n",
        "characteristics_data.head(10)"
      ],
      "execution_count": null,
      "outputs": [
        {
          "output_type": "execute_result",
          "data": {
            "text/html": [
              "<div>\n",
              "<style scoped>\n",
              "    .dataframe tbody tr th:only-of-type {\n",
              "        vertical-align: middle;\n",
              "    }\n",
              "\n",
              "    .dataframe tbody tr th {\n",
              "        vertical-align: top;\n",
              "    }\n",
              "\n",
              "    .dataframe thead th {\n",
              "        text-align: right;\n",
              "    }\n",
              "</style>\n",
              "<table border=\"1\" class=\"dataframe\">\n",
              "  <thead>\n",
              "    <tr style=\"text-align: right;\">\n",
              "      <th></th>\n",
              "      <th>satellite_name</th>\n",
              "      <th>Nation:</th>\n",
              "      <th>Type / Application:</th>\n",
              "      <th>Operator:</th>\n",
              "      <th>Contractors:</th>\n",
              "      <th>Equipment:</th>\n",
              "      <th>Configuration:</th>\n",
              "      <th>Propulsion:</th>\n",
              "      <th>Power:</th>\n",
              "      <th>Lifetime:</th>\n",
              "      <th>Mass:</th>\n",
              "      <th>Orbit:</th>\n",
              "    </tr>\n",
              "  </thead>\n",
              "  <tbody>\n",
              "    <tr>\n",
              "      <th>0</th>\n",
              "      <td>Türksat 5A</td>\n",
              "      <td>Turkey</td>\n",
              "      <td>Communication</td>\n",
              "      <td>Türksat AS</td>\n",
              "      <td>Airbus Defence and Space, Turkish Aerospace In...</td>\n",
              "      <td>Ku-band transponders</td>\n",
              "      <td>&lt;a href=\"../doc_sat/astrium_eurostar-3000.htm\"...</td>\n",
              "      <td>?</td>\n",
              "      <td>2 deployable solar arrays, batteries</td>\n",
              "      <td>15 years</td>\n",
              "      <td>3500 kg</td>\n",
              "      <td>GEO</td>\n",
              "    </tr>\n",
              "    <tr>\n",
              "      <th>1</th>\n",
              "      <td>CACTUS 1</td>\n",
              "      <td>USA</td>\n",
              "      <td>Technology</td>\n",
              "      <td>Capitol Technology University</td>\n",
              "      <td>Capitol Technology University</td>\n",
              "      <td></td>\n",
              "      <td>&lt;a href=\"../doc_sat/cubesat.htm\"&gt;CubeSat (3U)&lt;/a&gt;</td>\n",
              "      <td>None</td>\n",
              "      <td>Solar cells, batteries</td>\n",
              "      <td></td>\n",
              "      <td>2.8 kg</td>\n",
              "      <td></td>\n",
              "    </tr>\n",
              "    <tr>\n",
              "      <th>2</th>\n",
              "      <td>ExoCube 1, 2 (CP 10, 12)</td>\n",
              "      <td>USA</td>\n",
              "      <td>Science, atmosphere</td>\n",
              "      <td>NASA/JPL, Cal Poly Picosatellite Project (Poly...</td>\n",
              "      <td>NASA/JPL, Cal Poly Picosatellite Project (Poly...</td>\n",
              "      <td></td>\n",
              "      <td>&lt;a href=\"../doc_sat/cubesat.htm\"&gt;CubeSat (3U)&lt;/a&gt;</td>\n",
              "      <td>None</td>\n",
              "      <td>Solar cells, batteries</td>\n",
              "      <td></td>\n",
              "      <td>4 kg (#1); 3.2 kg (#2)</td>\n",
              "      <td>439 km × 669 km, 99.13°</td>\n",
              "    </tr>\n",
              "    <tr>\n",
              "      <th>3</th>\n",
              "      <td>MiTEE 1</td>\n",
              "      <td>USA</td>\n",
              "      <td>Technology</td>\n",
              "      <td>University of Michigan</td>\n",
              "      <td>University of Michigan</td>\n",
              "      <td>Miniature electrodynamic tether system</td>\n",
              "      <td>&lt;a href=\"../doc_sat/cubesat.htm\"&gt;CubeSat (3U)&lt;/a&gt;</td>\n",
              "      <td>None</td>\n",
              "      <td>Solar cells, batteries</td>\n",
              "      <td></td>\n",
              "      <td>3.4 kg</td>\n",
              "      <td></td>\n",
              "    </tr>\n",
              "    <tr>\n",
              "      <th>4</th>\n",
              "      <td>PolarCube</td>\n",
              "      <td>USA</td>\n",
              "      <td>Technology</td>\n",
              "      <td>Colorado Space Grant Consortium (CoSGC)</td>\n",
              "      <td>Colorado Space Grant Consortium (CoSGC)</td>\n",
              "      <td></td>\n",
              "      <td>&lt;a href=\"../doc_sat/cubesat.htm\"&gt;CubeSat (3U)&lt;...</td>\n",
              "      <td>None</td>\n",
              "      <td>Solar cells, batteries</td>\n",
              "      <td>1 year</td>\n",
              "      <td>3.9 kg</td>\n",
              "      <td></td>\n",
              "    </tr>\n",
              "    <tr>\n",
              "      <th>5</th>\n",
              "      <td>Q-PACE (Cu-PACE, SIMPLEx 2)</td>\n",
              "      <td>USA</td>\n",
              "      <td>Microgravity</td>\n",
              "      <td>University of Central Florida (UCF)</td>\n",
              "      <td>University of Central Florida (UCF)</td>\n",
              "      <td>Test cell</td>\n",
              "      <td>&lt;a href=\"../doc_sat/cubesat.htm\"&gt;CubeSat (3U)&lt;/a&gt;</td>\n",
              "      <td>None</td>\n",
              "      <td>Solar cells, batteries</td>\n",
              "      <td></td>\n",
              "      <td>2.76 kg</td>\n",
              "      <td></td>\n",
              "    </tr>\n",
              "    <tr>\n",
              "      <th>6</th>\n",
              "      <td>TechEdSat 7 (TES 7)</td>\n",
              "      <td>USA</td>\n",
              "      <td>Technology, education</td>\n",
              "      <td>SJSU, University of Idaho, NASA Ames Research ...</td>\n",
              "      <td>SJSU, University of Idaho, NASA Ames Research ...</td>\n",
              "      <td>High Packing-Density Exo-Brake, CUBIT</td>\n",
              "      <td>&lt;a href=\"../doc_sat/cubesat.htm\"&gt;CubeSat (2U)&lt;/a&gt;</td>\n",
              "      <td>None</td>\n",
              "      <td>Solar cells, batteries</td>\n",
              "      <td></td>\n",
              "      <td>2.5 kg</td>\n",
              "      <td></td>\n",
              "    </tr>\n",
              "    <tr>\n",
              "      <th>7</th>\n",
              "      <td>CAPE 3</td>\n",
              "      <td>USA</td>\n",
              "      <td>Technology</td>\n",
              "      <td>University of Louisiana at Lafayette</td>\n",
              "      <td>University of Louisiana at Lafayette</td>\n",
              "      <td></td>\n",
              "      <td>&lt;a href=\"../doc_sat/cubesat.htm\"&gt;CubeSat (1U)&lt;/a&gt;</td>\n",
              "      <td>None</td>\n",
              "      <td>Solar cells, batteries</td>\n",
              "      <td></td>\n",
              "      <td>1.3 kg</td>\n",
              "      <td></td>\n",
              "    </tr>\n",
              "    <tr>\n",
              "      <th>8</th>\n",
              "      <td>RadFxSat 2 (Fox 1E, Evolution)</td>\n",
              "      <td>USA</td>\n",
              "      <td>Amateur communication, technology</td>\n",
              "      <td>AMSAT, Vanderbilt University</td>\n",
              "      <td>AMSAT</td>\n",
              "      <td>Mode J linear transponder</td>\n",
              "      <td>&lt;a href=\"../doc_sat/cubesat.htm\"&gt;CubeSat (1U)&lt;/a&gt;</td>\n",
              "      <td>None</td>\n",
              "      <td>Solar cells, batteries</td>\n",
              "      <td></td>\n",
              "      <td>1.3 kg</td>\n",
              "      <td></td>\n",
              "    </tr>\n",
              "    <tr>\n",
              "      <th>9</th>\n",
              "      <td>PICS 1, 2</td>\n",
              "      <td>USA</td>\n",
              "      <td>Technology</td>\n",
              "      <td>Brigham Young University, Provo, Utah</td>\n",
              "      <td>Brigham Young University, Provo, Utah</td>\n",
              "      <td></td>\n",
              "      <td>&lt;a href=\"../doc_sat/cubesat.htm\"&gt;CubeSat (1U)&lt;/a&gt;</td>\n",
              "      <td></td>\n",
              "      <td>Solar cells, batteries</td>\n",
              "      <td></td>\n",
              "      <td>1.35 kg</td>\n",
              "      <td></td>\n",
              "    </tr>\n",
              "  </tbody>\n",
              "</table>\n",
              "</div>"
            ],
            "text/plain": [
              "                   satellite_name  ...                   Orbit:\n",
              "0                      Türksat 5A  ...                      GEO\n",
              "1                        CACTUS 1  ...                         \n",
              "2        ExoCube 1, 2 (CP 10, 12)  ...  439 km × 669 km, 99.13°\n",
              "3                         MiTEE 1  ...                         \n",
              "4                       PolarCube  ...                         \n",
              "5     Q-PACE (Cu-PACE, SIMPLEx 2)  ...                         \n",
              "6             TechEdSat 7 (TES 7)  ...                         \n",
              "7                          CAPE 3  ...                         \n",
              "8  RadFxSat 2 (Fox 1E, Evolution)  ...                         \n",
              "9                       PICS 1, 2  ...                         \n",
              "\n",
              "[10 rows x 12 columns]"
            ]
          },
          "metadata": {
            "tags": []
          },
          "execution_count": 18
        }
      ]
    },
    {
      "cell_type": "markdown",
      "metadata": {
        "id": "2nEptVkW93zb"
      },
      "source": [
        "#### Объединим 2 таблицы "
      ]
    },
    {
      "cell_type": "markdown",
      "metadata": {
        "id": "aaBpb9-t93zb"
      },
      "source": [
        "Длина каждой таблицы"
      ]
    },
    {
      "cell_type": "code",
      "metadata": {
        "colab": {
          "base_uri": "https://localhost:8080/"
        },
        "id": "b6v3G2kj93zc",
        "outputId": "ee601fc3-cd19-42e1-f36a-c3e2f2cb5490"
      },
      "source": [
        "print('Количество уникальных характеристик КА',len(characteristics_data))\n",
        "print('Количество запущенных КА',len(launch_data))"
      ],
      "execution_count": null,
      "outputs": [
        {
          "output_type": "stream",
          "text": [
            "Количество уникальных характеристик КА 32\n",
            "Количество запущенных КА 106\n"
          ],
          "name": "stdout"
        }
      ]
    },
    {
      "cell_type": "markdown",
      "metadata": {
        "id": "BfNcN3I393zc"
      },
      "source": [
        "Объединение таблиц с помощью merge с параметр внешний (outer), чтобы не потерять данные"
      ]
    },
    {
      "cell_type": "code",
      "metadata": {
        "colab": {
          "base_uri": "https://localhost:8080/"
        },
        "id": "Rhb_iFuQ93zc",
        "outputId": "19a0bafa-c406-4196-fdd9-677e1b092e4a"
      },
      "source": [
        "satellite_data = pd.merge(characteristics_data,launch_data, on = 'satellite_name', how = 'outer')\n",
        "#satellite_data = characteristics_data.join(launch_data, rsuffix = 'r', how = 'outer')\n",
        "#satellite_data = pd.concat([characteristics_data,launch_data],axis = 1,  join = 'outer')\n",
        "display(satellite_data.head(5))\n",
        "print(len(satellite_data))"
      ],
      "execution_count": null,
      "outputs": [
        {
          "output_type": "display_data",
          "data": {
            "text/html": [
              "<div>\n",
              "<style scoped>\n",
              "    .dataframe tbody tr th:only-of-type {\n",
              "        vertical-align: middle;\n",
              "    }\n",
              "\n",
              "    .dataframe tbody tr th {\n",
              "        vertical-align: top;\n",
              "    }\n",
              "\n",
              "    .dataframe thead th {\n",
              "        text-align: right;\n",
              "    }\n",
              "</style>\n",
              "<table border=\"1\" class=\"dataframe\">\n",
              "  <thead>\n",
              "    <tr style=\"text-align: right;\">\n",
              "      <th></th>\n",
              "      <th>satellite_name</th>\n",
              "      <th>Nation:</th>\n",
              "      <th>Type / Application:</th>\n",
              "      <th>Operator:</th>\n",
              "      <th>Contractors:</th>\n",
              "      <th>Equipment:</th>\n",
              "      <th>Configuration:</th>\n",
              "      <th>Propulsion:</th>\n",
              "      <th>Power:</th>\n",
              "      <th>Lifetime:</th>\n",
              "      <th>Mass:</th>\n",
              "      <th>Orbit:</th>\n",
              "      <th>Satellite</th>\n",
              "      <th>COSPAR</th>\n",
              "      <th>Date</th>\n",
              "      <th>LS</th>\n",
              "      <th></th>\n",
              "      <th>Launch Vehicle</th>\n",
              "      <th>Remarks</th>\n",
              "    </tr>\n",
              "  </thead>\n",
              "  <tbody>\n",
              "    <tr>\n",
              "      <th>0</th>\n",
              "      <td>Türksat 5A</td>\n",
              "      <td>Turkey</td>\n",
              "      <td>Communication</td>\n",
              "      <td>Türksat AS</td>\n",
              "      <td>Airbus Defence and Space, Turkish Aerospace In...</td>\n",
              "      <td>Ku-band transponders</td>\n",
              "      <td>&lt;a href=\"../doc_sat/astrium_eurostar-3000.htm\"...</td>\n",
              "      <td>?</td>\n",
              "      <td>2 deployable solar arrays, batteries</td>\n",
              "      <td>15 years</td>\n",
              "      <td>3500 kg</td>\n",
              "      <td>GEO</td>\n",
              "      <td>Türksat 5A</td>\n",
              "      <td>2021-001A</td>\n",
              "      <td>08.01.2021</td>\n",
              "      <td>CC SLC-40</td>\n",
              "      <td></td>\n",
              "      <td>&lt;a href=\"../doc_lau_det/falcon-9_v1-2_b5.htm\"&gt;...</td>\n",
              "      <td></td>\n",
              "    </tr>\n",
              "    <tr>\n",
              "      <th>1</th>\n",
              "      <td>CACTUS 1</td>\n",
              "      <td>USA</td>\n",
              "      <td>Technology</td>\n",
              "      <td>Capitol Technology University</td>\n",
              "      <td>Capitol Technology University</td>\n",
              "      <td></td>\n",
              "      <td>&lt;a href=\"../doc_sat/cubesat.htm\"&gt;CubeSat (3U)&lt;/a&gt;</td>\n",
              "      <td>None</td>\n",
              "      <td>Solar cells, batteries</td>\n",
              "      <td></td>\n",
              "      <td>2.8 kg</td>\n",
              "      <td></td>\n",
              "      <td>CACTUS 1</td>\n",
              "      <td>2021-002</td>\n",
              "      <td>17.01.2021</td>\n",
              "      <td>Mo RW12/30</td>\n",
              "      <td></td>\n",
              "      <td>&lt;a href=\"../doc_lau/launcherone.htm\"&gt;LauncherO...</td>\n",
              "      <td>with &lt;a href=\"exocube.htm\"&gt;ExoCube 2&lt;/a&gt;, &lt;a h...</td>\n",
              "    </tr>\n",
              "    <tr>\n",
              "      <th>2</th>\n",
              "      <td>ExoCube 1, 2 (CP 10, 12)</td>\n",
              "      <td>USA</td>\n",
              "      <td>Science, atmosphere</td>\n",
              "      <td>NASA/JPL, Cal Poly Picosatellite Project (Poly...</td>\n",
              "      <td>NASA/JPL, Cal Poly Picosatellite Project (Poly...</td>\n",
              "      <td></td>\n",
              "      <td>&lt;a href=\"../doc_sat/cubesat.htm\"&gt;CubeSat (3U)&lt;/a&gt;</td>\n",
              "      <td>None</td>\n",
              "      <td>Solar cells, batteries</td>\n",
              "      <td></td>\n",
              "      <td>4 kg (#1); 3.2 kg (#2)</td>\n",
              "      <td>439 km × 669 km, 99.13°</td>\n",
              "      <td>ExoCube (CP 10)</td>\n",
              "      <td>2015-003E</td>\n",
              "      <td>31.01.2015</td>\n",
              "      <td>Va SLC-2W</td>\n",
              "      <td></td>\n",
              "      <td>&lt;a href=\"../doc_lau_det/delta-7320.htm\"&gt;Delta-...</td>\n",
              "      <td>with &lt;a href=\"smap.htm\"&gt;SMAP&lt;/a&gt;, &lt;a href=\"gri...</td>\n",
              "    </tr>\n",
              "    <tr>\n",
              "      <th>3</th>\n",
              "      <td>ExoCube 1, 2 (CP 10, 12)</td>\n",
              "      <td>USA</td>\n",
              "      <td>Science, atmosphere</td>\n",
              "      <td>NASA/JPL, Cal Poly Picosatellite Project (Poly...</td>\n",
              "      <td>NASA/JPL, Cal Poly Picosatellite Project (Poly...</td>\n",
              "      <td></td>\n",
              "      <td>&lt;a href=\"../doc_sat/cubesat.htm\"&gt;CubeSat (3U)&lt;/a&gt;</td>\n",
              "      <td>None</td>\n",
              "      <td>Solar cells, batteries</td>\n",
              "      <td></td>\n",
              "      <td>4 kg (#1); 3.2 kg (#2)</td>\n",
              "      <td>439 km × 669 km, 99.13°</td>\n",
              "      <td>ExoCube 2 (CP 12)</td>\n",
              "      <td>2021-002L</td>\n",
              "      <td>17.01.2021</td>\n",
              "      <td>Mo RW12/30</td>\n",
              "      <td></td>\n",
              "      <td>&lt;a href=\"../doc_lau/launcherone.htm\"&gt;LauncherO...</td>\n",
              "      <td>with &lt;a href=\"cactus-1.htm\"&gt;CACTUS 1&lt;/a&gt;, &lt;a h...</td>\n",
              "    </tr>\n",
              "    <tr>\n",
              "      <th>4</th>\n",
              "      <td>MiTEE 1</td>\n",
              "      <td>USA</td>\n",
              "      <td>Technology</td>\n",
              "      <td>University of Michigan</td>\n",
              "      <td>University of Michigan</td>\n",
              "      <td>Miniature electrodynamic tether system</td>\n",
              "      <td>&lt;a href=\"../doc_sat/cubesat.htm\"&gt;CubeSat (3U)&lt;/a&gt;</td>\n",
              "      <td>None</td>\n",
              "      <td>Solar cells, batteries</td>\n",
              "      <td></td>\n",
              "      <td>3.4 kg</td>\n",
              "      <td></td>\n",
              "      <td>MiTEE 1</td>\n",
              "      <td>2021-002F</td>\n",
              "      <td>17.01.2021</td>\n",
              "      <td>Mo RW12/30</td>\n",
              "      <td></td>\n",
              "      <td>&lt;a href=\"../doc_lau/launcherone.htm\"&gt;LauncherO...</td>\n",
              "      <td>with &lt;a href=\"cactus-1.htm\"&gt;CACTUS 1&lt;/a&gt;, &lt;a h...</td>\n",
              "    </tr>\n",
              "  </tbody>\n",
              "</table>\n",
              "</div>"
            ],
            "text/plain": [
              "             satellite_name  ...                                            Remarks\n",
              "0                Türksat 5A  ...                                                   \n",
              "1                  CACTUS 1  ...  with <a href=\"exocube.htm\">ExoCube 2</a>, <a h...\n",
              "2  ExoCube 1, 2 (CP 10, 12)  ...  with <a href=\"smap.htm\">SMAP</a>, <a href=\"gri...\n",
              "3  ExoCube 1, 2 (CP 10, 12)  ...  with <a href=\"cactus-1.htm\">CACTUS 1</a>, <a h...\n",
              "4                   MiTEE 1  ...  with <a href=\"cactus-1.htm\">CACTUS 1</a>, <a h...\n",
              "\n",
              "[5 rows x 19 columns]"
            ]
          },
          "metadata": {
            "tags": []
          }
        },
        {
          "output_type": "stream",
          "text": [
            "106\n"
          ],
          "name": "stdout"
        }
      ]
    },
    {
      "cell_type": "markdown",
      "metadata": {
        "id": "WZLsw-LQ93zc"
      },
      "source": [
        "Добавление столбца с годом и месяцем запуска, изменение формата даты пуска "
      ]
    },
    {
      "cell_type": "code",
      "metadata": {
        "scrolled": true,
        "colab": {
          "base_uri": "https://localhost:8080/"
        },
        "id": "iTj_k7QK93zd",
        "outputId": "1fd6fc00-93ba-4a34-fd4a-6d913a4a10f2"
      },
      "source": [
        "#satellite_data.info()\n",
        "\n",
        "satellite_data['Date'] = pd.to_datetime(satellite_data['Date'], format = '%d.%m.%Y',errors='coerce')\n",
        "satellite_data['year'] = satellite_data['Date'].dt.year\n",
        "satellite_data['month'] = satellite_data['Date'].dt.month\n",
        "#satellite_data['Date'] = {0}/{1}/{2:02}'.format(satellite_data['Date'].month, satellite_data['Date'].day, satellite_data['Date'].year % 100)\n",
        "errors = 0\n",
        "for string in range(len(satellite_data)):\n",
        "    try:\n",
        "        satellite_data.loc[string,'Date'] = dt.datetime.strptime(str(satellite_data.loc[string,'Date']), '%Y-%m-%d %H:%M:%S').strftime('%d.%m.%Y')\n",
        "    except ValueError:\n",
        "        errors+=1\n",
        "    #satellite_data.loc[string,'Date'] = {0}/{1}/{2:02}'.format(dt.month, dt.day, dt.year % 100)\n",
        "print(errors)\n",
        "display(satellite_data.head(5))"
      ],
      "execution_count": null,
      "outputs": [
        {
          "output_type": "stream",
          "text": [
            "39\n"
          ],
          "name": "stdout"
        },
        {
          "output_type": "display_data",
          "data": {
            "text/html": [
              "<div>\n",
              "<style scoped>\n",
              "    .dataframe tbody tr th:only-of-type {\n",
              "        vertical-align: middle;\n",
              "    }\n",
              "\n",
              "    .dataframe tbody tr th {\n",
              "        vertical-align: top;\n",
              "    }\n",
              "\n",
              "    .dataframe thead th {\n",
              "        text-align: right;\n",
              "    }\n",
              "</style>\n",
              "<table border=\"1\" class=\"dataframe\">\n",
              "  <thead>\n",
              "    <tr style=\"text-align: right;\">\n",
              "      <th></th>\n",
              "      <th>satellite_name</th>\n",
              "      <th>Nation:</th>\n",
              "      <th>Type / Application:</th>\n",
              "      <th>Operator:</th>\n",
              "      <th>Contractors:</th>\n",
              "      <th>Equipment:</th>\n",
              "      <th>Configuration:</th>\n",
              "      <th>Propulsion:</th>\n",
              "      <th>Power:</th>\n",
              "      <th>Lifetime:</th>\n",
              "      <th>Mass:</th>\n",
              "      <th>Orbit:</th>\n",
              "      <th>Satellite</th>\n",
              "      <th>COSPAR</th>\n",
              "      <th>Date</th>\n",
              "      <th>LS</th>\n",
              "      <th></th>\n",
              "      <th>Launch Vehicle</th>\n",
              "      <th>Remarks</th>\n",
              "      <th>year</th>\n",
              "      <th>month</th>\n",
              "    </tr>\n",
              "  </thead>\n",
              "  <tbody>\n",
              "    <tr>\n",
              "      <th>0</th>\n",
              "      <td>Türksat 5A</td>\n",
              "      <td>Turkey</td>\n",
              "      <td>Communication</td>\n",
              "      <td>Türksat AS</td>\n",
              "      <td>Airbus Defence and Space, Turkish Aerospace In...</td>\n",
              "      <td>Ku-band transponders</td>\n",
              "      <td>&lt;a href=\"../doc_sat/astrium_eurostar-3000.htm\"...</td>\n",
              "      <td>?</td>\n",
              "      <td>2 deployable solar arrays, batteries</td>\n",
              "      <td>15 years</td>\n",
              "      <td>3500 kg</td>\n",
              "      <td>GEO</td>\n",
              "      <td>Türksat 5A</td>\n",
              "      <td>2021-001A</td>\n",
              "      <td>08.01.2021</td>\n",
              "      <td>CC SLC-40</td>\n",
              "      <td></td>\n",
              "      <td>&lt;a href=\"../doc_lau_det/falcon-9_v1-2_b5.htm\"&gt;...</td>\n",
              "      <td></td>\n",
              "      <td>2021.0</td>\n",
              "      <td>1.0</td>\n",
              "    </tr>\n",
              "    <tr>\n",
              "      <th>1</th>\n",
              "      <td>CACTUS 1</td>\n",
              "      <td>USA</td>\n",
              "      <td>Technology</td>\n",
              "      <td>Capitol Technology University</td>\n",
              "      <td>Capitol Technology University</td>\n",
              "      <td></td>\n",
              "      <td>&lt;a href=\"../doc_sat/cubesat.htm\"&gt;CubeSat (3U)&lt;/a&gt;</td>\n",
              "      <td>None</td>\n",
              "      <td>Solar cells, batteries</td>\n",
              "      <td></td>\n",
              "      <td>2.8 kg</td>\n",
              "      <td></td>\n",
              "      <td>CACTUS 1</td>\n",
              "      <td>2021-002</td>\n",
              "      <td>17.01.2021</td>\n",
              "      <td>Mo RW12/30</td>\n",
              "      <td></td>\n",
              "      <td>&lt;a href=\"../doc_lau/launcherone.htm\"&gt;LauncherO...</td>\n",
              "      <td>with &lt;a href=\"exocube.htm\"&gt;ExoCube 2&lt;/a&gt;, &lt;a h...</td>\n",
              "      <td>2021.0</td>\n",
              "      <td>1.0</td>\n",
              "    </tr>\n",
              "    <tr>\n",
              "      <th>2</th>\n",
              "      <td>ExoCube 1, 2 (CP 10, 12)</td>\n",
              "      <td>USA</td>\n",
              "      <td>Science, atmosphere</td>\n",
              "      <td>NASA/JPL, Cal Poly Picosatellite Project (Poly...</td>\n",
              "      <td>NASA/JPL, Cal Poly Picosatellite Project (Poly...</td>\n",
              "      <td></td>\n",
              "      <td>&lt;a href=\"../doc_sat/cubesat.htm\"&gt;CubeSat (3U)&lt;/a&gt;</td>\n",
              "      <td>None</td>\n",
              "      <td>Solar cells, batteries</td>\n",
              "      <td></td>\n",
              "      <td>4 kg (#1); 3.2 kg (#2)</td>\n",
              "      <td>439 km × 669 km, 99.13°</td>\n",
              "      <td>ExoCube (CP 10)</td>\n",
              "      <td>2015-003E</td>\n",
              "      <td>31.01.2015</td>\n",
              "      <td>Va SLC-2W</td>\n",
              "      <td></td>\n",
              "      <td>&lt;a href=\"../doc_lau_det/delta-7320.htm\"&gt;Delta-...</td>\n",
              "      <td>with &lt;a href=\"smap.htm\"&gt;SMAP&lt;/a&gt;, &lt;a href=\"gri...</td>\n",
              "      <td>2015.0</td>\n",
              "      <td>1.0</td>\n",
              "    </tr>\n",
              "    <tr>\n",
              "      <th>3</th>\n",
              "      <td>ExoCube 1, 2 (CP 10, 12)</td>\n",
              "      <td>USA</td>\n",
              "      <td>Science, atmosphere</td>\n",
              "      <td>NASA/JPL, Cal Poly Picosatellite Project (Poly...</td>\n",
              "      <td>NASA/JPL, Cal Poly Picosatellite Project (Poly...</td>\n",
              "      <td></td>\n",
              "      <td>&lt;a href=\"../doc_sat/cubesat.htm\"&gt;CubeSat (3U)&lt;/a&gt;</td>\n",
              "      <td>None</td>\n",
              "      <td>Solar cells, batteries</td>\n",
              "      <td></td>\n",
              "      <td>4 kg (#1); 3.2 kg (#2)</td>\n",
              "      <td>439 km × 669 km, 99.13°</td>\n",
              "      <td>ExoCube 2 (CP 12)</td>\n",
              "      <td>2021-002L</td>\n",
              "      <td>17.01.2021</td>\n",
              "      <td>Mo RW12/30</td>\n",
              "      <td></td>\n",
              "      <td>&lt;a href=\"../doc_lau/launcherone.htm\"&gt;LauncherO...</td>\n",
              "      <td>with &lt;a href=\"cactus-1.htm\"&gt;CACTUS 1&lt;/a&gt;, &lt;a h...</td>\n",
              "      <td>2021.0</td>\n",
              "      <td>1.0</td>\n",
              "    </tr>\n",
              "    <tr>\n",
              "      <th>4</th>\n",
              "      <td>MiTEE 1</td>\n",
              "      <td>USA</td>\n",
              "      <td>Technology</td>\n",
              "      <td>University of Michigan</td>\n",
              "      <td>University of Michigan</td>\n",
              "      <td>Miniature electrodynamic tether system</td>\n",
              "      <td>&lt;a href=\"../doc_sat/cubesat.htm\"&gt;CubeSat (3U)&lt;/a&gt;</td>\n",
              "      <td>None</td>\n",
              "      <td>Solar cells, batteries</td>\n",
              "      <td></td>\n",
              "      <td>3.4 kg</td>\n",
              "      <td></td>\n",
              "      <td>MiTEE 1</td>\n",
              "      <td>2021-002F</td>\n",
              "      <td>17.01.2021</td>\n",
              "      <td>Mo RW12/30</td>\n",
              "      <td></td>\n",
              "      <td>&lt;a href=\"../doc_lau/launcherone.htm\"&gt;LauncherO...</td>\n",
              "      <td>with &lt;a href=\"cactus-1.htm\"&gt;CACTUS 1&lt;/a&gt;, &lt;a h...</td>\n",
              "      <td>2021.0</td>\n",
              "      <td>1.0</td>\n",
              "    </tr>\n",
              "  </tbody>\n",
              "</table>\n",
              "</div>"
            ],
            "text/plain": [
              "             satellite_name Nation:  ...    year month\n",
              "0                Türksat 5A  Turkey  ...  2021.0   1.0\n",
              "1                  CACTUS 1     USA  ...  2021.0   1.0\n",
              "2  ExoCube 1, 2 (CP 10, 12)     USA  ...  2015.0   1.0\n",
              "3  ExoCube 1, 2 (CP 10, 12)     USA  ...  2021.0   1.0\n",
              "4                   MiTEE 1     USA  ...  2021.0   1.0\n",
              "\n",
              "[5 rows x 21 columns]"
            ]
          },
          "metadata": {
            "tags": []
          }
        }
      ]
    },
    {
      "cell_type": "markdown",
      "metadata": {
        "id": "0Eb_8G7693zd"
      },
      "source": [
        "### Подготовка таблицы к выгрузке в базу данных <a class=\"anchor\" id=\"4-bullet\"></a>"
      ]
    },
    {
      "cell_type": "markdown",
      "metadata": {
        "id": "-4-BXeyD93zd"
      },
      "source": [
        "[Обратно в оглавление](#home)"
      ]
    },
    {
      "cell_type": "markdown",
      "metadata": {
        "id": "EeZiV0-j93zd"
      },
      "source": [
        "Делаем срез таблицы согласно изначальным условиям по году и месяцу"
      ]
    },
    {
      "cell_type": "code",
      "metadata": {
        "colab": {
          "base_uri": "https://localhost:8080/"
        },
        "id": "1IYB4oSE93ze",
        "outputId": "8de1fb04-91ba-43dc-f281-0ad5c389b012"
      },
      "source": [
        "#year = 1982\n",
        "#month = 11\n",
        "data_slice = satellite_data.query('year == @years & month == @months')\n",
        "data_slice.reset_index(drop=False, inplace = True)\n",
        "display(data_slice)"
      ],
      "execution_count": null,
      "outputs": [
        {
          "output_type": "display_data",
          "data": {
            "text/html": [
              "<div>\n",
              "<style scoped>\n",
              "    .dataframe tbody tr th:only-of-type {\n",
              "        vertical-align: middle;\n",
              "    }\n",
              "\n",
              "    .dataframe tbody tr th {\n",
              "        vertical-align: top;\n",
              "    }\n",
              "\n",
              "    .dataframe thead th {\n",
              "        text-align: right;\n",
              "    }\n",
              "</style>\n",
              "<table border=\"1\" class=\"dataframe\">\n",
              "  <thead>\n",
              "    <tr style=\"text-align: right;\">\n",
              "      <th></th>\n",
              "      <th>index</th>\n",
              "      <th>satellite_name</th>\n",
              "      <th>Nation:</th>\n",
              "      <th>Type / Application:</th>\n",
              "      <th>Operator:</th>\n",
              "      <th>Contractors:</th>\n",
              "      <th>Equipment:</th>\n",
              "      <th>Configuration:</th>\n",
              "      <th>Propulsion:</th>\n",
              "      <th>Power:</th>\n",
              "      <th>Lifetime:</th>\n",
              "      <th>Mass:</th>\n",
              "      <th>Orbit:</th>\n",
              "      <th>Satellite</th>\n",
              "      <th>COSPAR</th>\n",
              "      <th>Date</th>\n",
              "      <th>LS</th>\n",
              "      <th></th>\n",
              "      <th>Launch Vehicle</th>\n",
              "      <th>Remarks</th>\n",
              "      <th>year</th>\n",
              "      <th>month</th>\n",
              "    </tr>\n",
              "  </thead>\n",
              "  <tbody>\n",
              "    <tr>\n",
              "      <th>0</th>\n",
              "      <td>92</td>\n",
              "      <td>Hiber 3, ..., x</td>\n",
              "      <td>Netherlands</td>\n",
              "      <td>Communication M2M/IoT</td>\n",
              "      <td>Hiber Global (ex Magnitude Space)</td>\n",
              "      <td></td>\n",
              "      <td></td>\n",
              "      <td>&lt;a href=\"../doc_sat/cubesat.htm\"&gt;CubeSat (3U)&lt;/a&gt;</td>\n",
              "      <td>?</td>\n",
              "      <td>Solar cells, batteries</td>\n",
              "      <td></td>\n",
              "      <td></td>\n",
              "      <td></td>\n",
              "      <td>Hiber 3</td>\n",
              "      <td>2021-022L</td>\n",
              "      <td>22.03.2021</td>\n",
              "      <td>Ba LC-31/6</td>\n",
              "      <td></td>\n",
              "      <td>&lt;a href=\"../doc_lau_det/soyuz-2-1a_fregat.htm\"...</td>\n",
              "      <td>with &lt;a href=\"cas500-1.htm\"&gt;CAS500 1&lt;/a&gt;, &lt;a h...</td>\n",
              "      <td>2021.0</td>\n",
              "      <td>3.0</td>\n",
              "    </tr>\n",
              "  </tbody>\n",
              "</table>\n",
              "</div>"
            ],
            "text/plain": [
              "   index   satellite_name  ...    year month\n",
              "0     92  Hiber 3, ..., x  ...  2021.0   3.0\n",
              "\n",
              "[1 rows x 22 columns]"
            ]
          },
          "metadata": {
            "tags": []
          }
        }
      ]
    },
    {
      "cell_type": "markdown",
      "metadata": {
        "id": "VN_GL5ie93ze"
      },
      "source": [
        "### Очистка данных"
      ]
    },
    {
      "cell_type": "markdown",
      "metadata": {
        "id": "OCQsC1h-93ze"
      },
      "source": [
        "Функция по удалению тегов ссылок "
      ]
    },
    {
      "cell_type": "code",
      "metadata": {
        "id": "qf4ys_if93ze"
      },
      "source": [
        "def replace (data,string,column):\n",
        "    element = str(data.loc[string,column])   \n",
        "    a_1 = element.find('<a',0,len(element))\n",
        "    a_2 = element.find('>',0,len(element))\n",
        "    replace_1 = element[int(a_1):int(a_2)+1]\n",
        "    #display(replace_1)\n",
        "    a_3 = element.find('</a',a_2+1,len(element))\n",
        "    a_4 = element.find('>',a_2+1,len(element))\n",
        "    replace_2 = element[int(a_3):int(a_4)+1]\n",
        "    #display(replace_2)\n",
        "    element = element.replace(replace_1,'')\n",
        "    element = element.replace(replace_2,'')\n",
        "    return element"
      ],
      "execution_count": null,
      "outputs": []
    },
    {
      "cell_type": "markdown",
      "metadata": {
        "id": "h4ouMFrv93ze"
      },
      "source": [
        "Замена тегов ссылок"
      ]
    },
    {
      "cell_type": "code",
      "metadata": {
        "colab": {
          "base_uri": "https://localhost:8080/"
        },
        "id": "7tAR9so493zf",
        "outputId": "0f01cc3f-e8ad-48c4-f7ec-73f35e4ad46f"
      },
      "source": [
        "replace_coulmns = ['Satellite','LS','Launch Vehicle','Remarks']\n",
        "for column in satellite_launch_columns:\n",
        "#for column in replace_coulmns:    \n",
        "    for string in data_slice.index:\n",
        "        data_slice.loc[string,column] = replace(data_slice,string,column)\n",
        "        \n",
        "for string in data_slice.index:\n",
        "    data_slice.loc[string,'Remarks'] = replace(data_slice,string,'Remarks')\n",
        "for string in data_slice.index:\n",
        "    data_slice.loc[string,'Configuration:'] = replace(data_slice,string,'Configuration:')\n",
        "for string in data_slice.index:\n",
        "    data_slice.loc[string,'Propulsion:'] = replace(data_slice,string,'Propulsion:')\n",
        "for string in data_slice.index:\n",
        "    data_slice.loc[string,'Propulsion:'] = replace(data_slice,string,'Power:')\n",
        "\n",
        "#display(data_slice.head(5))"
      ],
      "execution_count": null,
      "outputs": [
        {
          "output_type": "stream",
          "text": [
            "/usr/local/lib/python3.7/dist-packages/pandas/core/indexing.py:1763: SettingWithCopyWarning: \n",
            "A value is trying to be set on a copy of a slice from a DataFrame.\n",
            "Try using .loc[row_indexer,col_indexer] = value instead\n",
            "\n",
            "See the caveats in the documentation: https://pandas.pydata.org/pandas-docs/stable/user_guide/indexing.html#returning-a-view-versus-a-copy\n",
            "  isetter(loc, value)\n"
          ],
          "name": "stderr"
        }
      ]
    },
    {
      "cell_type": "markdown",
      "metadata": {
        "id": "D0x33sj793zf"
      },
      "source": [
        "Добавим порядковый номер пуска. Порядковый номер - "
      ]
    },
    {
      "cell_type": "code",
      "metadata": {
        "id": "RNYMFjP593zf"
      },
      "source": [
        ""
      ],
      "execution_count": null,
      "outputs": []
    },
    {
      "cell_type": "markdown",
      "metadata": {
        "id": "5Op1tbgt93zf"
      },
      "source": [
        "#### Добавление необходимых столбцов и подоговка к выгрузке в базу данных"
      ]
    },
    {
      "cell_type": "markdown",
      "metadata": {
        "id": "NpeEF3jx93zf"
      },
      "source": [
        "Название колонок в базе данных"
      ]
    },
    {
      "cell_type": "code",
      "metadata": {
        "id": "LJ9-Z5sN93zg"
      },
      "source": [
        "#data_base_columns = pd.read_excel('data_base_columns.xlsx')\n",
        "#data_base_columns = data_base_columns.columns\n",
        "\n",
        "\n",
        "data_base_columns = \\\n",
        "['Year',\\\n",
        " 'Launch Date',\\\n",
        " 'Launch ID',\\\n",
        " 'Launched/Planned',\\\n",
        " 'Spacecraft Name',\\\n",
        " 'Spacecraft Cost At New  (US$m)',\\\n",
        " 'Цена КА (найдена/выставлена по среднему, исходя из сегмента)',\\\n",
        "'Total Launch Cost (US$m)',\\\n",
        "'Constellation Group',\\\n",
        "'Spacecraft Operator Country',\\\n",
        " 'Spacecraft Operator',\\\n",
        "'Operator Type',\\\n",
        "'Spacecraft Prime Manufacturer (Original)',\\\n",
        "'Spacecraft Prime Manufacturer Country',\\\n",
        "'Spacecraft Prime Manufacturer Type',\\\n",
        "'Spacecraft Prime Manufacturer Category',\\\n",
        "'Доступный/недоступный для производства',\\\n",
        "'Sector',\\\n",
        "'Mission',\\\n",
        "'Mission 2',\\\n",
        "'Mission 3',\\\n",
        "'Mission 4',\\\n",
        "'Orbit Category',\\\n",
        "'Orbit Sub Category',\\\n",
        "'Longitude',\\\n",
        "'Perigee (km)',\\\n",
        "'Apogee (km)',\\\n",
        "'Inclination (deg)',\\\n",
        "'Period (mins)',\\\n",
        "'Mass At Launch (kg)',\\\n",
        "'ADD',\\\n",
        "'Primary/Secondary Payload',\\\n",
        "'Mass Dry (kg)',\\\n",
        "'Mass Category',\\\n",
        "'Spacecraft Category',\\\n",
        "'Expected Life (years)',\\\n",
        "'Decay date (fact)',\\\n",
        "'Overtime, years',\\\n",
        "'Planned decay year (inc. lifetime and overtime)',\\\n",
        "'Spacecraft Status',\\\n",
        "'Bus Type',\\\n",
        "'Bus Manufacturer (Original)',\\\n",
        "'Bus Manufacturer (Original) Country',\\\n",
        "'Наличие аппаратуры САРСАТ',\\\n",
        "'Launch Site Name',\\\n",
        "'Launch Site Country',\\\n",
        "'Vehicle Long Name',\\\n",
        "'Vehicle Category',\\\n",
        "'Vehicle Family',\\\n",
        "'Vehicle Type',\\\n",
        "'Vehicle Variant',\\\n",
        "'Счетчик по РН',\\\n",
        "'Vehicle Prime Manufacturer (Original)',\\\n",
        "'Vehicle Prime Manufacturer Type',\\\n",
        "'Vehicle Prime Manufacturer (Original) Country',\\\n",
        "'Launch Provider',\\\n",
        "'Launch Provider Country',\\\n",
        "'Вспомогательный для доступен/недоступен',\\\n",
        "'Доступный/недоступный запуск РН',\\\n",
        "'Launch Category',\\\n",
        "'International Number',\\\n",
        "'Catalogue Number (NORAD)',\\\n",
        "'Sucсess/Fail',\\\n",
        "'Статус для модели',\\\n",
        "'Satellite Number AGAT',\\\n",
        "'Сегменты для модели']\n"
      ],
      "execution_count": null,
      "outputs": []
    },
    {
      "cell_type": "code",
      "metadata": {
        "id": "Jm7dnPtT93zg",
        "colab": {
          "base_uri": "https://localhost:8080/",
          "height": 165
        },
        "outputId": "20c0e594-afd7-4c52-9372-4160035485f1"
      },
      "source": [
        "display(data_slice.head(1))"
      ],
      "execution_count": null,
      "outputs": [
        {
          "output_type": "display_data",
          "data": {
            "text/html": [
              "<div>\n",
              "<style scoped>\n",
              "    .dataframe tbody tr th:only-of-type {\n",
              "        vertical-align: middle;\n",
              "    }\n",
              "\n",
              "    .dataframe tbody tr th {\n",
              "        vertical-align: top;\n",
              "    }\n",
              "\n",
              "    .dataframe thead th {\n",
              "        text-align: right;\n",
              "    }\n",
              "</style>\n",
              "<table border=\"1\" class=\"dataframe\">\n",
              "  <thead>\n",
              "    <tr style=\"text-align: right;\">\n",
              "      <th></th>\n",
              "      <th>index</th>\n",
              "      <th>satellite_name</th>\n",
              "      <th>Nation:</th>\n",
              "      <th>Type / Application:</th>\n",
              "      <th>Operator:</th>\n",
              "      <th>Contractors:</th>\n",
              "      <th>Equipment:</th>\n",
              "      <th>Configuration:</th>\n",
              "      <th>Propulsion:</th>\n",
              "      <th>Power:</th>\n",
              "      <th>Lifetime:</th>\n",
              "      <th>Mass:</th>\n",
              "      <th>Orbit:</th>\n",
              "      <th>Satellite</th>\n",
              "      <th>COSPAR</th>\n",
              "      <th>Date</th>\n",
              "      <th>LS</th>\n",
              "      <th></th>\n",
              "      <th>Launch Vehicle</th>\n",
              "      <th>Remarks</th>\n",
              "      <th>year</th>\n",
              "      <th>month</th>\n",
              "    </tr>\n",
              "  </thead>\n",
              "  <tbody>\n",
              "    <tr>\n",
              "      <th>0</th>\n",
              "      <td>92</td>\n",
              "      <td>Hiber 3, ..., x</td>\n",
              "      <td>Netherlands</td>\n",
              "      <td>Communication M2M/IoT</td>\n",
              "      <td>Hiber Global (ex Magnitude Space)</td>\n",
              "      <td></td>\n",
              "      <td></td>\n",
              "      <td>CubeSat (3U)</td>\n",
              "      <td>Solar cells, batteries</td>\n",
              "      <td>Solar cells, batteries</td>\n",
              "      <td></td>\n",
              "      <td></td>\n",
              "      <td></td>\n",
              "      <td>Hiber 3</td>\n",
              "      <td>2021-022L</td>\n",
              "      <td>22.03.2021</td>\n",
              "      <td>Ba LC-31/6</td>\n",
              "      <td></td>\n",
              "      <td>Soyuz-2-1a Fregat</td>\n",
              "      <td>with CAS500 1, ELSA-d Chaser, &lt;a href=\"elsa-d-...</td>\n",
              "      <td>2021.0</td>\n",
              "      <td>3.0</td>\n",
              "    </tr>\n",
              "  </tbody>\n",
              "</table>\n",
              "</div>"
            ],
            "text/plain": [
              "   index   satellite_name  ...    year month\n",
              "0     92  Hiber 3, ..., x  ...  2021.0   3.0\n",
              "\n",
              "[1 rows x 22 columns]"
            ]
          },
          "metadata": {
            "tags": []
          }
        }
      ]
    },
    {
      "cell_type": "markdown",
      "metadata": {
        "id": "ZnPoPU6693zg"
      },
      "source": [
        "Создание таблицы в формате базы данных"
      ]
    },
    {
      "cell_type": "code",
      "metadata": {
        "id": "FQh7aCzZ93zg"
      },
      "source": [
        "data_base = pd.DataFrame(columns = data_base_columns)\n",
        "#display(data_base)\n"
      ],
      "execution_count": null,
      "outputs": []
    },
    {
      "cell_type": "markdown",
      "metadata": {
        "id": "8TitAgjk93zh"
      },
      "source": [
        "Добавление готовых столбцов (Year, Launch Date, Spacecraft Name, Spacecraft Operator Country"
      ]
    },
    {
      "cell_type": "code",
      "metadata": {
        "id": "S2mv8iP793zh"
      },
      "source": [
        "data_base[data_base_columns[0]] = data_slice['year']\n",
        "data_base[data_base_columns[1]] = data_slice['Date']\n",
        "data_base[data_base_columns[3]] = 'Launched'\n",
        "data_base[data_base_columns[4]] = data_slice['Satellite']\n",
        "data_base[data_base_columns[9]] = data_slice['Nation:']\n",
        "data_base[data_base_columns[10]] = data_slice['Operator:'] \n",
        "data_base[data_base_columns[12]] = data_slice['Contractors:'] #Производитель КА или полезной нагрузки?\n",
        "data_base[data_base_columns[43]] = data_slice['Configuration:']\n",
        "data_base[data_base_columns[49]] = data_slice['Launch Vehicle']\n",
        "data_base[data_base_columns[62]] = data_slice['COSPAR']\n",
        "data_base[data_base_columns[-3]] = 'Факт'"
      ],
      "execution_count": null,
      "outputs": []
    },
    {
      "cell_type": "code",
      "metadata": {
        "id": "PhPKUWXd93zh",
        "colab": {
          "base_uri": "https://localhost:8080/"
        },
        "outputId": "ac491a59-a897-4074-d9d9-469afe045b34"
      },
      "source": [
        "mission_types = ['Ballast','Communications','Earth Observation','Navigation',\\\n",
        "                 'Other','Satellite servicing','Science','Space Station','Technology/Test','n/a']\n",
        "#Заменим communication (из Gunter) на communications согласно классификаци базы\n",
        "for string in data_slice.index:\n",
        "    data_slice.loc[string,'Type / Application:'] = data_slice.loc[string,'Type / Application:'].\\\n",
        "    replace('Communication','Communications')\n",
        "    if data_slice.loc[string,'Type / Application:'] in mission_types:\n",
        "        data_slice.loc[string,'mission'] = data_slice.loc[string,'Type / Application:']"
      ],
      "execution_count": null,
      "outputs": [
        {
          "output_type": "stream",
          "text": [
            "/usr/local/lib/python3.7/dist-packages/pandas/core/indexing.py:1763: SettingWithCopyWarning: \n",
            "A value is trying to be set on a copy of a slice from a DataFrame.\n",
            "Try using .loc[row_indexer,col_indexer] = value instead\n",
            "\n",
            "See the caveats in the documentation: https://pandas.pydata.org/pandas-docs/stable/user_guide/indexing.html#returning-a-view-versus-a-copy\n",
            "  isetter(loc, value)\n"
          ],
          "name": "stderr"
        }
      ]
    },
    {
      "cell_type": "code",
      "metadata": {
        "id": "4JgILD0N93zh",
        "colab": {
          "base_uri": "https://localhost:8080/",
          "height": 165
        },
        "outputId": "434c6094-ace1-43fb-aa29-a3c062f6f66a"
      },
      "source": [
        "data_slice.head(5)"
      ],
      "execution_count": null,
      "outputs": [
        {
          "output_type": "execute_result",
          "data": {
            "text/html": [
              "<div>\n",
              "<style scoped>\n",
              "    .dataframe tbody tr th:only-of-type {\n",
              "        vertical-align: middle;\n",
              "    }\n",
              "\n",
              "    .dataframe tbody tr th {\n",
              "        vertical-align: top;\n",
              "    }\n",
              "\n",
              "    .dataframe thead th {\n",
              "        text-align: right;\n",
              "    }\n",
              "</style>\n",
              "<table border=\"1\" class=\"dataframe\">\n",
              "  <thead>\n",
              "    <tr style=\"text-align: right;\">\n",
              "      <th></th>\n",
              "      <th>index</th>\n",
              "      <th>satellite_name</th>\n",
              "      <th>Nation:</th>\n",
              "      <th>Type / Application:</th>\n",
              "      <th>Operator:</th>\n",
              "      <th>Contractors:</th>\n",
              "      <th>Equipment:</th>\n",
              "      <th>Configuration:</th>\n",
              "      <th>Propulsion:</th>\n",
              "      <th>Power:</th>\n",
              "      <th>Lifetime:</th>\n",
              "      <th>Mass:</th>\n",
              "      <th>Orbit:</th>\n",
              "      <th>Satellite</th>\n",
              "      <th>COSPAR</th>\n",
              "      <th>Date</th>\n",
              "      <th>LS</th>\n",
              "      <th></th>\n",
              "      <th>Launch Vehicle</th>\n",
              "      <th>Remarks</th>\n",
              "      <th>year</th>\n",
              "      <th>month</th>\n",
              "    </tr>\n",
              "  </thead>\n",
              "  <tbody>\n",
              "    <tr>\n",
              "      <th>0</th>\n",
              "      <td>92</td>\n",
              "      <td>Hiber 3, ..., x</td>\n",
              "      <td>Netherlands</td>\n",
              "      <td>Communicationss M2M/IoT</td>\n",
              "      <td>Hiber Global (ex Magnitude Space)</td>\n",
              "      <td></td>\n",
              "      <td></td>\n",
              "      <td>CubeSat (3U)</td>\n",
              "      <td>Solar cells, batteries</td>\n",
              "      <td>Solar cells, batteries</td>\n",
              "      <td></td>\n",
              "      <td></td>\n",
              "      <td></td>\n",
              "      <td>Hiber 3</td>\n",
              "      <td>2021-022L</td>\n",
              "      <td>22.03.2021</td>\n",
              "      <td>Ba LC-31/6</td>\n",
              "      <td></td>\n",
              "      <td>Soyuz-2-1a Fregat</td>\n",
              "      <td>with CAS500 1, ELSA-d Chaser, &lt;a href=\"elsa-d-...</td>\n",
              "      <td>2021.0</td>\n",
              "      <td>3.0</td>\n",
              "    </tr>\n",
              "  </tbody>\n",
              "</table>\n",
              "</div>"
            ],
            "text/plain": [
              "   index   satellite_name  ...    year month\n",
              "0     92  Hiber 3, ..., x  ...  2021.0   3.0\n",
              "\n",
              "[1 rows x 22 columns]"
            ]
          },
          "metadata": {
            "tags": []
          },
          "execution_count": 33
        }
      ]
    },
    {
      "cell_type": "code",
      "metadata": {
        "id": "M9C7MzxX93zi",
        "colab": {
          "base_uri": "https://localhost:8080/",
          "height": 306
        },
        "outputId": "68c1ed2a-7871-4803-b702-0cfeaed02f3f"
      },
      "source": [
        "data_slice.groupby('mission')['mission'].count()"
      ],
      "execution_count": null,
      "outputs": [
        {
          "output_type": "error",
          "ename": "KeyError",
          "evalue": "ignored",
          "traceback": [
            "\u001b[0;31m---------------------------------------------------------------------------\u001b[0m",
            "\u001b[0;31mKeyError\u001b[0m                                  Traceback (most recent call last)",
            "\u001b[0;32m<ipython-input-34-a9284c6c0401>\u001b[0m in \u001b[0;36m<module>\u001b[0;34m()\u001b[0m\n\u001b[0;32m----> 1\u001b[0;31m \u001b[0mdata_slice\u001b[0m\u001b[0;34m.\u001b[0m\u001b[0mgroupby\u001b[0m\u001b[0;34m(\u001b[0m\u001b[0;34m'mission'\u001b[0m\u001b[0;34m)\u001b[0m\u001b[0;34m[\u001b[0m\u001b[0;34m'mission'\u001b[0m\u001b[0;34m]\u001b[0m\u001b[0;34m.\u001b[0m\u001b[0mcount\u001b[0m\u001b[0;34m(\u001b[0m\u001b[0;34m)\u001b[0m\u001b[0;34m\u001b[0m\u001b[0;34m\u001b[0m\u001b[0m\n\u001b[0m",
            "\u001b[0;32m/usr/local/lib/python3.7/dist-packages/pandas/core/frame.py\u001b[0m in \u001b[0;36mgroupby\u001b[0;34m(self, by, axis, level, as_index, sort, group_keys, squeeze, observed, dropna)\u001b[0m\n\u001b[1;32m   6523\u001b[0m             \u001b[0msqueeze\u001b[0m\u001b[0;34m=\u001b[0m\u001b[0msqueeze\u001b[0m\u001b[0;34m,\u001b[0m\u001b[0;34m\u001b[0m\u001b[0;34m\u001b[0m\u001b[0m\n\u001b[1;32m   6524\u001b[0m             \u001b[0mobserved\u001b[0m\u001b[0;34m=\u001b[0m\u001b[0mobserved\u001b[0m\u001b[0;34m,\u001b[0m\u001b[0;34m\u001b[0m\u001b[0;34m\u001b[0m\u001b[0m\n\u001b[0;32m-> 6525\u001b[0;31m             \u001b[0mdropna\u001b[0m\u001b[0;34m=\u001b[0m\u001b[0mdropna\u001b[0m\u001b[0;34m,\u001b[0m\u001b[0;34m\u001b[0m\u001b[0;34m\u001b[0m\u001b[0m\n\u001b[0m\u001b[1;32m   6526\u001b[0m         )\n\u001b[1;32m   6527\u001b[0m \u001b[0;34m\u001b[0m\u001b[0m\n",
            "\u001b[0;32m/usr/local/lib/python3.7/dist-packages/pandas/core/groupby/groupby.py\u001b[0m in \u001b[0;36m__init__\u001b[0;34m(self, obj, keys, axis, level, grouper, exclusions, selection, as_index, sort, group_keys, squeeze, observed, mutated, dropna)\u001b[0m\n\u001b[1;32m    531\u001b[0m                 \u001b[0mobserved\u001b[0m\u001b[0;34m=\u001b[0m\u001b[0mobserved\u001b[0m\u001b[0;34m,\u001b[0m\u001b[0;34m\u001b[0m\u001b[0;34m\u001b[0m\u001b[0m\n\u001b[1;32m    532\u001b[0m                 \u001b[0mmutated\u001b[0m\u001b[0;34m=\u001b[0m\u001b[0mself\u001b[0m\u001b[0;34m.\u001b[0m\u001b[0mmutated\u001b[0m\u001b[0;34m,\u001b[0m\u001b[0;34m\u001b[0m\u001b[0;34m\u001b[0m\u001b[0m\n\u001b[0;32m--> 533\u001b[0;31m                 \u001b[0mdropna\u001b[0m\u001b[0;34m=\u001b[0m\u001b[0mself\u001b[0m\u001b[0;34m.\u001b[0m\u001b[0mdropna\u001b[0m\u001b[0;34m,\u001b[0m\u001b[0;34m\u001b[0m\u001b[0;34m\u001b[0m\u001b[0m\n\u001b[0m\u001b[1;32m    534\u001b[0m             )\n\u001b[1;32m    535\u001b[0m \u001b[0;34m\u001b[0m\u001b[0m\n",
            "\u001b[0;32m/usr/local/lib/python3.7/dist-packages/pandas/core/groupby/grouper.py\u001b[0m in \u001b[0;36mget_grouper\u001b[0;34m(obj, key, axis, level, sort, observed, mutated, validate, dropna)\u001b[0m\n\u001b[1;32m    784\u001b[0m                 \u001b[0min_axis\u001b[0m\u001b[0;34m,\u001b[0m \u001b[0mname\u001b[0m\u001b[0;34m,\u001b[0m \u001b[0mlevel\u001b[0m\u001b[0;34m,\u001b[0m \u001b[0mgpr\u001b[0m \u001b[0;34m=\u001b[0m \u001b[0;32mFalse\u001b[0m\u001b[0;34m,\u001b[0m \u001b[0;32mNone\u001b[0m\u001b[0;34m,\u001b[0m \u001b[0mgpr\u001b[0m\u001b[0;34m,\u001b[0m \u001b[0;32mNone\u001b[0m\u001b[0;34m\u001b[0m\u001b[0;34m\u001b[0m\u001b[0m\n\u001b[1;32m    785\u001b[0m             \u001b[0;32melse\u001b[0m\u001b[0;34m:\u001b[0m\u001b[0;34m\u001b[0m\u001b[0;34m\u001b[0m\u001b[0m\n\u001b[0;32m--> 786\u001b[0;31m                 \u001b[0;32mraise\u001b[0m \u001b[0mKeyError\u001b[0m\u001b[0;34m(\u001b[0m\u001b[0mgpr\u001b[0m\u001b[0;34m)\u001b[0m\u001b[0;34m\u001b[0m\u001b[0;34m\u001b[0m\u001b[0m\n\u001b[0m\u001b[1;32m    787\u001b[0m         \u001b[0;32melif\u001b[0m \u001b[0misinstance\u001b[0m\u001b[0;34m(\u001b[0m\u001b[0mgpr\u001b[0m\u001b[0;34m,\u001b[0m \u001b[0mGrouper\u001b[0m\u001b[0;34m)\u001b[0m \u001b[0;32mand\u001b[0m \u001b[0mgpr\u001b[0m\u001b[0;34m.\u001b[0m\u001b[0mkey\u001b[0m \u001b[0;32mis\u001b[0m \u001b[0;32mnot\u001b[0m \u001b[0;32mNone\u001b[0m\u001b[0;34m:\u001b[0m\u001b[0;34m\u001b[0m\u001b[0;34m\u001b[0m\u001b[0m\n\u001b[1;32m    788\u001b[0m             \u001b[0;31m# Add key to exclusions\u001b[0m\u001b[0;34m\u001b[0m\u001b[0;34m\u001b[0m\u001b[0;34m\u001b[0m\u001b[0m\n",
            "\u001b[0;31mKeyError\u001b[0m: 'mission'"
          ]
        }
      ]
    },
    {
      "cell_type": "markdown",
      "metadata": {
        "id": "u43s4w8q93zi"
      },
      "source": [
        "Добавление столбца Launched/Planned"
      ]
    },
    {
      "cell_type": "code",
      "metadata": {
        "id": "eo-YP3dZ93zi",
        "colab": {
          "base_uri": "https://localhost:8080/"
        },
        "outputId": "6c0b0713-ec38-4d3b-e3fd-a4a29d08db9f"
      },
      "source": [
        "for string in range(len(data_slice)):\n",
        "    data_slice.loc[string,'Launched/Planned'] = 'Launched'"
      ],
      "execution_count": null,
      "outputs": [
        {
          "output_type": "stream",
          "text": [
            "/usr/local/lib/python3.7/dist-packages/pandas/core/indexing.py:1596: SettingWithCopyWarning: \n",
            "A value is trying to be set on a copy of a slice from a DataFrame.\n",
            "Try using .loc[row_indexer,col_indexer] = value instead\n",
            "\n",
            "See the caveats in the documentation: https://pandas.pydata.org/pandas-docs/stable/user_guide/indexing.html#returning-a-view-versus-a-copy\n",
            "  self.obj[key] = _infer_fill_value(value)\n",
            "/usr/local/lib/python3.7/dist-packages/pandas/core/indexing.py:1763: SettingWithCopyWarning: \n",
            "A value is trying to be set on a copy of a slice from a DataFrame.\n",
            "Try using .loc[row_indexer,col_indexer] = value instead\n",
            "\n",
            "See the caveats in the documentation: https://pandas.pydata.org/pandas-docs/stable/user_guide/indexing.html#returning-a-view-versus-a-copy\n",
            "  isetter(loc, value)\n"
          ],
          "name": "stderr"
        }
      ]
    },
    {
      "cell_type": "code",
      "metadata": {
        "scrolled": true,
        "id": "qKAm95eD93zi",
        "colab": {
          "base_uri": "https://localhost:8080/",
          "height": 253
        },
        "outputId": "cc4f4f0f-dfd4-423e-8278-a28c8886ea3f"
      },
      "source": [
        "display(data_base)"
      ],
      "execution_count": null,
      "outputs": [
        {
          "output_type": "display_data",
          "data": {
            "text/html": [
              "<div>\n",
              "<style scoped>\n",
              "    .dataframe tbody tr th:only-of-type {\n",
              "        vertical-align: middle;\n",
              "    }\n",
              "\n",
              "    .dataframe tbody tr th {\n",
              "        vertical-align: top;\n",
              "    }\n",
              "\n",
              "    .dataframe thead th {\n",
              "        text-align: right;\n",
              "    }\n",
              "</style>\n",
              "<table border=\"1\" class=\"dataframe\">\n",
              "  <thead>\n",
              "    <tr style=\"text-align: right;\">\n",
              "      <th></th>\n",
              "      <th>Year</th>\n",
              "      <th>Launch Date</th>\n",
              "      <th>Launch ID</th>\n",
              "      <th>Launched/Planned</th>\n",
              "      <th>Spacecraft Name</th>\n",
              "      <th>Spacecraft Cost At New  (US$m)</th>\n",
              "      <th>Цена КА (найдена/выставлена по среднему, исходя из сегмента)</th>\n",
              "      <th>Total Launch Cost (US$m)</th>\n",
              "      <th>Constellation Group</th>\n",
              "      <th>Spacecraft Operator Country</th>\n",
              "      <th>Spacecraft Operator</th>\n",
              "      <th>Operator Type</th>\n",
              "      <th>Spacecraft Prime Manufacturer (Original)</th>\n",
              "      <th>Spacecraft Prime Manufacturer Country</th>\n",
              "      <th>Spacecraft Prime Manufacturer Type</th>\n",
              "      <th>Spacecraft Prime Manufacturer Category</th>\n",
              "      <th>Доступный/недоступный для производства</th>\n",
              "      <th>Sector</th>\n",
              "      <th>Mission</th>\n",
              "      <th>Mission 2</th>\n",
              "      <th>Mission 3</th>\n",
              "      <th>Mission 4</th>\n",
              "      <th>Orbit Category</th>\n",
              "      <th>Orbit Sub Category</th>\n",
              "      <th>Longitude</th>\n",
              "      <th>Perigee (km)</th>\n",
              "      <th>Apogee (km)</th>\n",
              "      <th>Inclination (deg)</th>\n",
              "      <th>Period (mins)</th>\n",
              "      <th>Mass At Launch (kg)</th>\n",
              "      <th>ADD</th>\n",
              "      <th>Primary/Secondary Payload</th>\n",
              "      <th>Mass Dry (kg)</th>\n",
              "      <th>Mass Category</th>\n",
              "      <th>Spacecraft Category</th>\n",
              "      <th>Expected Life (years)</th>\n",
              "      <th>Decay date (fact)</th>\n",
              "      <th>Overtime, years</th>\n",
              "      <th>Planned decay year (inc. lifetime and overtime)</th>\n",
              "      <th>Spacecraft Status</th>\n",
              "      <th>Bus Type</th>\n",
              "      <th>Bus Manufacturer (Original)</th>\n",
              "      <th>Bus Manufacturer (Original) Country</th>\n",
              "      <th>Наличие аппаратуры САРСАТ</th>\n",
              "      <th>Launch Site Name</th>\n",
              "      <th>Launch Site Country</th>\n",
              "      <th>Vehicle Long Name</th>\n",
              "      <th>Vehicle Category</th>\n",
              "      <th>Vehicle Family</th>\n",
              "      <th>Vehicle Type</th>\n",
              "      <th>Vehicle Variant</th>\n",
              "      <th>Счетчик по РН</th>\n",
              "      <th>Vehicle Prime Manufacturer (Original)</th>\n",
              "      <th>Vehicle Prime Manufacturer Type</th>\n",
              "      <th>Vehicle Prime Manufacturer (Original) Country</th>\n",
              "      <th>Launch Provider</th>\n",
              "      <th>Launch Provider Country</th>\n",
              "      <th>Вспомогательный для доступен/недоступен</th>\n",
              "      <th>Доступный/недоступный запуск РН</th>\n",
              "      <th>Launch Category</th>\n",
              "      <th>International Number</th>\n",
              "      <th>Catalogue Number (NORAD)</th>\n",
              "      <th>Sucсess/Fail</th>\n",
              "      <th>Статус для модели</th>\n",
              "      <th>Satellite Number AGAT</th>\n",
              "      <th>Сегменты для модели</th>\n",
              "    </tr>\n",
              "  </thead>\n",
              "  <tbody>\n",
              "    <tr>\n",
              "      <th>0</th>\n",
              "      <td>2021.0</td>\n",
              "      <td>22.03.2021</td>\n",
              "      <td>NaN</td>\n",
              "      <td>Launched</td>\n",
              "      <td>Hiber 3</td>\n",
              "      <td>NaN</td>\n",
              "      <td>NaN</td>\n",
              "      <td>NaN</td>\n",
              "      <td>NaN</td>\n",
              "      <td>Netherlands</td>\n",
              "      <td>Hiber Global (ex Magnitude Space)</td>\n",
              "      <td>NaN</td>\n",
              "      <td></td>\n",
              "      <td>NaN</td>\n",
              "      <td>NaN</td>\n",
              "      <td>NaN</td>\n",
              "      <td>NaN</td>\n",
              "      <td>NaN</td>\n",
              "      <td>NaN</td>\n",
              "      <td>NaN</td>\n",
              "      <td>NaN</td>\n",
              "      <td>NaN</td>\n",
              "      <td>NaN</td>\n",
              "      <td>NaN</td>\n",
              "      <td>NaN</td>\n",
              "      <td>NaN</td>\n",
              "      <td>NaN</td>\n",
              "      <td>NaN</td>\n",
              "      <td>NaN</td>\n",
              "      <td>NaN</td>\n",
              "      <td>NaN</td>\n",
              "      <td>NaN</td>\n",
              "      <td>NaN</td>\n",
              "      <td>NaN</td>\n",
              "      <td>NaN</td>\n",
              "      <td>NaN</td>\n",
              "      <td>NaN</td>\n",
              "      <td>NaN</td>\n",
              "      <td>NaN</td>\n",
              "      <td>NaN</td>\n",
              "      <td>NaN</td>\n",
              "      <td>NaN</td>\n",
              "      <td>NaN</td>\n",
              "      <td>CubeSat (3U)</td>\n",
              "      <td>NaN</td>\n",
              "      <td>NaN</td>\n",
              "      <td>NaN</td>\n",
              "      <td>NaN</td>\n",
              "      <td>NaN</td>\n",
              "      <td>Soyuz-2-1a Fregat</td>\n",
              "      <td>NaN</td>\n",
              "      <td>NaN</td>\n",
              "      <td>NaN</td>\n",
              "      <td>NaN</td>\n",
              "      <td>NaN</td>\n",
              "      <td>NaN</td>\n",
              "      <td>NaN</td>\n",
              "      <td>NaN</td>\n",
              "      <td>NaN</td>\n",
              "      <td>NaN</td>\n",
              "      <td>NaN</td>\n",
              "      <td>NaN</td>\n",
              "      <td>2021-022L</td>\n",
              "      <td>Факт</td>\n",
              "      <td>NaN</td>\n",
              "      <td>NaN</td>\n",
              "    </tr>\n",
              "  </tbody>\n",
              "</table>\n",
              "</div>"
            ],
            "text/plain": [
              "     Year Launch Date  ... Satellite Number AGAT Сегменты для модели\n",
              "0  2021.0  22.03.2021  ...                   NaN                 NaN\n",
              "\n",
              "[1 rows x 66 columns]"
            ]
          },
          "metadata": {
            "tags": []
          }
        }
      ]
    },
    {
      "cell_type": "code",
      "metadata": {
        "id": "SmJrBTX_93zj"
      },
      "source": [
        ""
      ],
      "execution_count": null,
      "outputs": []
    },
    {
      "cell_type": "code",
      "metadata": {
        "id": "Q5DFsODk93zj"
      },
      "source": [
        ""
      ],
      "execution_count": null,
      "outputs": []
    },
    {
      "cell_type": "code",
      "metadata": {
        "id": "i3IJZ55093zj"
      },
      "source": [
        ""
      ],
      "execution_count": null,
      "outputs": []
    },
    {
      "cell_type": "code",
      "metadata": {
        "id": "I_vlD_EX93zj"
      },
      "source": [
        ""
      ],
      "execution_count": null,
      "outputs": []
    },
    {
      "cell_type": "code",
      "metadata": {
        "id": "fY-1-3ZT93zj"
      },
      "source": [
        ""
      ],
      "execution_count": null,
      "outputs": []
    },
    {
      "cell_type": "code",
      "metadata": {
        "id": "0M1W8RpP93zk"
      },
      "source": [
        ""
      ],
      "execution_count": null,
      "outputs": []
    },
    {
      "cell_type": "code",
      "metadata": {
        "id": "cLNSCxpj93zk"
      },
      "source": [
        ""
      ],
      "execution_count": null,
      "outputs": []
    },
    {
      "cell_type": "code",
      "metadata": {
        "id": "2ipnXHCO93zk"
      },
      "source": [
        ""
      ],
      "execution_count": null,
      "outputs": []
    },
    {
      "cell_type": "code",
      "metadata": {
        "id": "K052TU5J93zl"
      },
      "source": [
        ""
      ],
      "execution_count": null,
      "outputs": []
    },
    {
      "cell_type": "code",
      "metadata": {
        "id": "auKb-gGU93zl"
      },
      "source": [
        ""
      ],
      "execution_count": null,
      "outputs": []
    },
    {
      "cell_type": "code",
      "metadata": {
        "id": "M20cl-0s93zl"
      },
      "source": [
        ""
      ],
      "execution_count": null,
      "outputs": []
    },
    {
      "cell_type": "code",
      "metadata": {
        "id": "Y-HcKqE893zm"
      },
      "source": [
        ""
      ],
      "execution_count": null,
      "outputs": []
    },
    {
      "cell_type": "markdown",
      "metadata": {
        "id": "fX1iW0PN93zm"
      },
      "source": [
        "### Сохранение <a class=\"anchor\" id=\"5-bullet\"></a>"
      ]
    },
    {
      "cell_type": "markdown",
      "metadata": {
        "id": "9ZQMZtCa93zm"
      },
      "source": [
        "[Обратно в оглавление](#home)"
      ]
    },
    {
      "cell_type": "code",
      "metadata": {
        "id": "uGHys_kP93zn"
      },
      "source": [
        "data_base.to_excel('data_base.xls', index=False)\n",
        "#data_slice.to_csv('data_slice.csv', index=False)"
      ],
      "execution_count": null,
      "outputs": []
    },
    {
      "cell_type": "markdown",
      "metadata": {
        "id": "bniDP39293zn"
      },
      "source": [
        "### Архивные строки кода <a class=\"anchor\" id=\"6-bullet\"></a>"
      ]
    },
    {
      "cell_type": "markdown",
      "metadata": {
        "id": "lWsk3tmQ93zo"
      },
      "source": [
        "[Обратно в оглавление](#home)"
      ]
    },
    {
      "cell_type": "markdown",
      "metadata": {
        "id": "8-jMMbnD93zp"
      },
      "source": [
        "Добавим порядковый номер пуска"
      ]
    },
    {
      "cell_type": "markdown",
      "metadata": {
        "id": "rOGHALcN93zp"
      },
      "source": [
        "data_slice['launch_number'] = data_slice['COSPAR']\n",
        "alphabet = string.ascii_uppercase\n",
        "symbols = list(alphabet)\n",
        "for symbol in symbols:\n",
        "    #print(symbol)\n",
        "    for string in range(len(data_slice)):\n",
        "        data_slice.loc[string,'launch_number'] = data_slice.loc[string,'launch_number'].replace(symbol,'')\n",
        "        #print(data_slice.loc[string,'launch_#'])"
      ]
    },
    {
      "cell_type": "code",
      "metadata": {
        "id": "AT0xWx0393zp"
      },
      "source": [
        "data_slice.groupby('Date')['Date'].count().sort_values(ascending = True)"
      ],
      "execution_count": null,
      "outputs": []
    },
    {
      "cell_type": "code",
      "metadata": {
        "id": "F0LAvPYU93zq"
      },
      "source": [
        "data_slice.query('month == 10')"
      ],
      "execution_count": null,
      "outputs": []
    },
    {
      "cell_type": "code",
      "metadata": {
        "scrolled": true,
        "id": "y1uxaEgM93zq"
      },
      "source": [
        "display(data_slice.groupby('year')['year'].count())\n",
        "display(data_slice.groupby('launch_number')['year'].count())"
      ],
      "execution_count": null,
      "outputs": []
    },
    {
      "cell_type": "code",
      "metadata": {
        "id": "ltC81MPA93zq"
      },
      "source": [
        "data_slice.query('Date == \"2020-03-07 00:00:00\"')"
      ],
      "execution_count": null,
      "outputs": []
    },
    {
      "cell_type": "code",
      "metadata": {
        "id": "xEhK8lHr93zq"
      },
      "source": [
        "data_slice.query('launch_number == \"1998-067\"')"
      ],
      "execution_count": null,
      "outputs": []
    },
    {
      "cell_type": "code",
      "metadata": {
        "id": "yRF_Ooqu93zr"
      },
      "source": [
        "data_slice.groupby('launch_#')['satellite_name'].count().sort_values(ascending = False).head(15)"
      ],
      "execution_count": null,
      "outputs": []
    },
    {
      "cell_type": "markdown",
      "metadata": {
        "id": "-rhTNdky93zr"
      },
      "source": [
        "    user_agent = 'Mozilla/5.0 (Macintosh; Intel Mac OS X 10_9_3) AppleWebKit/537.36 (KHTML, like Gecko) Chrome/35.0.1916.47 Safari/537.36'\n",
        "    headers = {'User-Agent': user_agent}\n",
        "    response_satellite = requests.get(link, headers=headers, allow_redirects=True)\n",
        "    page_bs_launch_year = BeautifulSoup(response_satellite.text)\n",
        "    satellite_name = str(page_bs_launch_year.find('h1').renderContents())[2:-1]    \n",
        "    display(satellite_name)\n",
        "    coverpage_characteristics = page_bs_launch_year.find('table', {'id': 'satlist'})\n",
        "    satellite_data_values = coverpage_characteristics.find_all('td')\n",
        "    string_length = len(satellite_launch_columns)\n",
        "    strings = int(len(satellite_data_values)/string_length)\n",
        "    satellite_data_context = []\n",
        "    for element in satellite_data_values:\n",
        "        satellite_data_context.append(str(element.renderContents())[2:-1])    \n",
        "    for string in range(strings):\n",
        "        launch_dict[satellite_name] = satellite_data_context[string*string_length:(string+1)*string_length-1]"
      ]
    }
  ]
}